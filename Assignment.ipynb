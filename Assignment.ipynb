{
 "cells": [
  {
   "cell_type": "code",
   "execution_count": null,
   "id": "407610b3-a736-4346-8d63-3c36310ab8c4",
   "metadata": {},
   "outputs": [],
   "source": [
    "import pandas as pd\n",
    "import geopandas as gpd\n",
    "from shapely.geometry import Point, Polygon, MultiPolygon\n",
    "from geoalchemy2 import Geometry, WKTElement\n",
    "import matplotlib.pyplot as plt\n",
    "from sqlalchemy import text"
   ]
  },
  {
   "cell_type": "markdown",
   "id": "892dbb29-5612-4bb7-afe0-1e86eb66e035",
   "metadata": {},
   "source": [
    "## Data Loading"
   ]
  },
  {
   "cell_type": "code",
   "execution_count": null,
   "id": "de6543ca-03fa-4a9c-99fe-98bc9ad906c3",
   "metadata": {},
   "outputs": [],
   "source": [
    "businesses = pd.read_csv(\"Businesses.csv\")\n",
    "income = pd.read_csv(\"Income.csv\")\n",
    "population = pd.read_csv(\"Population.csv\")\n",
    "stops = pd.read_csv(\"Stops.txt\")"
   ]
  },
  {
   "cell_type": "code",
   "execution_count": null,
   "id": "7fae16b9-53f5-4846-bafb-84e827ffebfe",
   "metadata": {},
   "outputs": [],
   "source": [
    "businesses.info()\n",
    "income.info()\n",
    "population.info()\n",
    "stops.info() \n",
    "# The stops and income df contains null values. Income has null values in form of 'np'. "
   ]
  },
  {
   "cell_type": "code",
   "execution_count": null,
   "id": "77d70051-5e21-4007-bd54-1b6ca8d38382",
   "metadata": {},
   "outputs": [],
   "source": [
    "# schools dataset\n",
    "catchments_primary = gpd.read_file(\"Catchments/catchments_primary.shp\")\n",
    "catchments_future = gpd.read_file(\"Catchments/catchments_future.shp\")\n",
    "catchments_secondary = gpd.read_file(\"Catchments/catchments_secondary.shp\")"
   ]
  },
  {
   "cell_type": "code",
   "execution_count": null,
   "id": "9c514c3c-088c-4bdf-adf3-751fc6ec6c02",
   "metadata": {},
   "outputs": [],
   "source": [
    "catchments_primary.info()\n",
    "# Add_DATE and PRIORITY contain nulls"
   ]
  },
  {
   "cell_type": "code",
   "execution_count": null,
   "id": "f4adbad0-33ed-4e01-8a50-e5c2e4be95fa",
   "metadata": {},
   "outputs": [],
   "source": [
    "catchments_future.info()"
   ]
  },
  {
   "cell_type": "code",
   "execution_count": null,
   "id": "599abc12-b000-46db-bc26-9f14602bb5cc",
   "metadata": {},
   "outputs": [],
   "source": [
    "catchments_secondary.info()"
   ]
  },
  {
   "cell_type": "code",
   "execution_count": null,
   "id": "d8425a24-e8ff-4f5c-ac66-9dc9a57599a2",
   "metadata": {},
   "outputs": [],
   "source": [
    "sa2_regions = gpd.read_file(\"SA2_2021_SHP/SA2_2021_AUST_GDA2020.shp\")"
   ]
  },
  {
   "cell_type": "code",
   "execution_count": null,
   "id": "2eefe889",
   "metadata": {},
   "outputs": [],
   "source": [
    "sa2_regions.info()\n",
    "#geometry and AREASQKM21 contain null values"
   ]
  },
  {
   "cell_type": "markdown",
   "id": "8c382ef0-7d2c-4ad0-98ca-a42f6f08c503",
   "metadata": {},
   "source": [
    "## Dataset Cleaning"
   ]
  },
  {
   "cell_type": "code",
   "execution_count": null,
   "id": "e17ba4fc",
   "metadata": {},
   "outputs": [],
   "source": [
    "# clean up np values in income df \n",
    "income = income[income['median_income'] != 'np']\n",
    "income"
   ]
  },
  {
   "cell_type": "code",
   "execution_count": null,
   "id": "4d0e2406-09f5-4998-b63b-88c1d3c04504",
   "metadata": {},
   "outputs": [],
   "source": [
    "# Renaming the columns for latitude and longitude\n",
    "stops = stops.rename(columns={'stop_lat':'lat', 'stop_lon':'lng'})\n",
    "\n",
    "# creating the geometry column \n",
    "stops['geom'] = gpd.points_from_xy(stops.lng, stops.lat) \n",
    "\n",
    "# dropping the old lat and lng columns \n",
    "stops = stops.drop(columns=['lat', 'lng', 'wheelchair_boarding', 'platform_code', 'location_type'])"
   ]
  },
  {
   "cell_type": "code",
   "execution_count": null,
   "id": "777af730-f287-471c-9df9-e1c207f43637",
   "metadata": {},
   "outputs": [],
   "source": [
    "# check column names\n",
    "catchments_primary.columns.tolist()\n",
    "\n",
    "catchments_primary = catchments_primary.drop(columns = ['YEAR7','YEAR8','YEAR9','YEAR10','YEAR11','YEAR12', 'PRIORITY', 'ADD_DATE'])\n"
   ]
  },
  {
   "cell_type": "code",
   "execution_count": null,
   "id": "b5abdcbf-26fa-4f5c-8560-3684ad0da603",
   "metadata": {},
   "outputs": [],
   "source": [
    "catchments_secondary.columns.tolist()\n",
    "\n",
    "# drop irrelevant columns \n",
    "catchments_secondary = catchments_secondary.drop(columns = ['KINDERGART','YEAR1','YEAR2','YEAR3','YEAR4','YEAR5','YEAR6', 'PRIORITY', 'ADD_DATE'])"
   ]
  },
  {
   "cell_type": "code",
   "execution_count": null,
   "id": "844b333b",
   "metadata": {},
   "outputs": [],
   "source": [
    "catchments_secondary\n",
    "catchments_future\n",
    "catchments_primary"
   ]
  },
  {
   "cell_type": "code",
   "execution_count": null,
   "id": "e6a3067e-60d2-4797-b256-5d2be5a7cd2c",
   "metadata": {},
   "outputs": [],
   "source": [
    "sa2_regions.columns.tolist()\n",
    "\n",
    "# drop irrelevant columns\n",
    "sa2_regions = sa2_regions.drop(columns=['CHG_FLAG21','CHG_LBL21'])\n",
    "\n",
    "# drop rows with missing values\n",
    "sa2_regions = sa2_regions.dropna(subset=['geometry', 'AREASQKM21'])\n",
    "\n",
    "# filter for Greater Sydney\n",
    "sa2_regions = sa2_regions[sa2_regions['GCC_NAME21']=='Greater Sydney']\n",
    "sa2_regions # only 373 entries in Greater Sydney"
   ]
  },
  {
   "cell_type": "code",
   "execution_count": null,
   "id": "79addb59-4e0a-46fd-af27-b61127747e01",
   "metadata": {},
   "outputs": [],
   "source": [
    "# A list of SA4 names for you guys to choose from\n",
    "sa2_regions.SA4_NAME21.unique().tolist()\n",
    "\n",
    "sa2_regions[sa2_regions['SA4_NAME21'] == 'Sydney - Eastern Suburbs']"
   ]
  },
  {
   "cell_type": "markdown",
   "id": "2b5efa34-b439-40ee-b6b3-26b42361a844",
   "metadata": {},
   "source": [
    "## Data Transformation"
   ]
  },
  {
   "cell_type": "code",
   "execution_count": null,
   "id": "71d5766d-dca9-4025-9c87-3610f5218f98",
   "metadata": {},
   "outputs": [],
   "source": [
    "srid = 4326\n",
    "stops['geom'] = stops['geom'].apply(lambda x: WKTElement(x.wkt, srid=srid))\n",
    "stops"
   ]
  },
  {
   "cell_type": "code",
   "execution_count": null,
   "id": "d79284ef-04a3-46e4-8902-60cfb879bb3f",
   "metadata": {},
   "outputs": [],
   "source": [
    "def create_wkt_element(geom, srid):\n",
    "    if geom.geom_type == 'Polygon':\n",
    "        geom = MultiPolygon([geom])\n",
    "    return WKTElement(geom.wkt, srid)\n",
    "\n",
    "# modify Wk 8 tutorial codes into a function \n",
    "def transform_spatial_col(df:pd.DataFrame, spatial_col:str,srid:int):\n",
    "    df_og = df.copy()  # creating a copy of the original for later\n",
    "    df['geom'] = df[spatial_col].apply(lambda x: create_wkt_element(geom=x,srid=srid))  # applying the create_wkt_element\n",
    "    df = df.drop(columns=spatial_col)  # deleting the old copy\n",
    "    return df "
   ]
  },
  {
   "cell_type": "code",
   "execution_count": null,
   "id": "9490234c-958c-4f8e-b32c-5a6a12b42214",
   "metadata": {},
   "outputs": [],
   "source": [
    "transform_spatial_col(catchments_primary, 'geometry', 4326)"
   ]
  },
  {
   "cell_type": "code",
   "execution_count": null,
   "id": "6be303e0-af30-41d1-954f-1864cca54da6",
   "metadata": {},
   "outputs": [],
   "source": [
    "transform_spatial_col(catchments_future, 'geometry', 4326)"
   ]
  },
  {
   "cell_type": "code",
   "execution_count": null,
   "id": "3d967fe9-2d52-4c6c-aa42-3134d9f3ae2d",
   "metadata": {},
   "outputs": [],
   "source": [
    "transform_spatial_col(catchments_secondary, 'geometry', 4326)"
   ]
  },
  {
   "cell_type": "code",
   "execution_count": null,
   "id": "0cf0a84d-28ac-47a4-a712-a7a22fea64c3",
   "metadata": {},
   "outputs": [],
   "source": [
    "\n",
    "dict(population.dtypes)\n"
   ]
  },
  {
   "cell_type": "code",
   "execution_count": null,
   "id": "d6b08759-4ff8-46f1-9972-eca4cc0b70aa",
   "metadata": {},
   "outputs": [],
   "source": [
    "from sqlalchemy import create_engine\n",
    "import psycopg2\n",
    "import psycopg2.extras\n",
    "import json\n",
    "\n",
    "credentials = \"Credentials.json\"\n",
    "\n",
    "def pgconnect(credential_filepath, db_schema=\"public\"):\n",
    "    with open(credential_filepath) as f:\n",
    "        db_conn_dict = json.load(f)\n",
    "        host       = db_conn_dict['host']\n",
    "        db_user    = db_conn_dict['user']\n",
    "        db_pw      = db_conn_dict['password']\n",
    "        default_db = db_conn_dict['user']\n",
    "        port       = db_conn_dict['port']\n",
    "        try:\n",
    "            db = create_engine(f'postgresql+psycopg2://{db_user}:{db_pw}@{host}:{port}/{default_db}', echo=False)\n",
    "            conn = db.connect()\n",
    "            print('Connected successfully.')\n",
    "        except Exception as e:\n",
    "            print(\"Unable to connect to the database.\")\n",
    "            print(e)\n",
    "            db, conn = None, None\n",
    "        return db,conn\n",
    "\n",
    "def query(conn, sqlcmd, args=None, df=True):\n",
    "    result = pd.DataFrame() if df else None\n",
    "    try:\n",
    "        if df:\n",
    "            result = pd.read_sql_query(sqlcmd, conn, params=args)\n",
    "        else:\n",
    "            result = conn.execute(text(sqlcmd), args).fetchall()\n",
    "            result = result[0] if len(result) == 1 else result\n",
    "    except Exception as e:\n",
    "        print(\"Error encountered: \", e, sep='\\n')\n",
    "    return result"
   ]
  },
  {
   "cell_type": "code",
   "execution_count": null,
   "id": "e72543cf-baad-4c73-ba57-da42a525b728",
   "metadata": {},
   "outputs": [],
   "source": [
    "db, conn = pgconnect(credentials)"
   ]
  },
  {
   "cell_type": "code",
   "execution_count": null,
   "id": "f9e42d1d-f8ae-4164-ac16-1c9d8ec82d93",
   "metadata": {},
   "outputs": [],
   "source": [
    "query(conn, \"select PostGIS_Version()\")"
   ]
  },
  {
   "cell_type": "markdown",
   "id": "fb578e87",
   "metadata": {},
   "source": [
    "## Ingesting into SQL"
   ]
  },
  {
   "cell_type": "code",
   "execution_count": null,
   "id": "d4750333",
   "metadata": {},
   "outputs": [],
   "source": [
    "conn.rollback()\n",
    "\n",
    "conn.execute(text(\"\"\"\n",
    "DROP TABLE IF EXISTS income;\n",
    "CREATE TABLE income (\n",
    "    sa2_code21 INTEGER,\n",
    "    sa2_name VARCHAR(100),\n",
    "    earners INTEGER, \n",
    "    median_age INTEGER,\n",
    "    median_income INTEGER,\n",
    "    mean_income INTEGER\n",
    ");\"\"\"\n",
    "))\n",
    "\n",
    "conn.execute(text(\"\"\"\n",
    "DROP TABLE IF EXISTS stops;\n",
    "CREATE TABLE stops (\n",
    "    stopid INTEGER UNIQUE,  \n",
    "    stop_code INTEGER, \n",
    "    stop_name VARCHAR(100),\n",
    "    parent_station INTEGER,\n",
    "    geom GEOMETRY(POINT,4326)\n",
    ");\"\"\"\n",
    "))"
   ]
  },
  {
   "cell_type": "code",
   "execution_count": null,
   "id": "c31399d6-2f6b-462d-82cb-971d7c91371e",
   "metadata": {},
   "outputs": [],
   "source": [
    "conn.rollback()\n",
    "income.to_sql(\"income\", conn, if_exists='append', index=False)\n",
    "df = query(conn, \"select * from income\")\n"
   ]
  },
  {
   "cell_type": "code",
   "execution_count": null,
   "id": "4aa4591f",
   "metadata": {},
   "outputs": [],
   "source": [
    "df.drop_duplicates()"
   ]
  },
  {
   "cell_type": "code",
   "execution_count": 19,
   "id": "c6d08936-cff8-4a5b-af79-5ae0abf33ecc",
   "metadata": {},
   "outputs": [
    {
     "data": {
      "text/html": [
       "<div>\n",
       "<style scoped>\n",
       "    .dataframe tbody tr th:only-of-type {\n",
       "        vertical-align: middle;\n",
       "    }\n",
       "\n",
       "    .dataframe tbody tr th {\n",
       "        vertical-align: top;\n",
       "    }\n",
       "\n",
       "    .dataframe thead th {\n",
       "        text-align: right;\n",
       "    }\n",
       "</style>\n",
       "<table border=\"1\" class=\"dataframe\">\n",
       "  <thead>\n",
       "    <tr style=\"text-align: right;\">\n",
       "      <th></th>\n",
       "      <th>stop_id</th>\n",
       "      <th>stop_code</th>\n",
       "      <th>stop_name</th>\n",
       "      <th>stop_lat</th>\n",
       "      <th>stop_lon</th>\n",
       "      <th>location_type</th>\n",
       "      <th>parent_station</th>\n",
       "      <th>wheelchair_boarding</th>\n",
       "      <th>platform_code</th>\n",
       "    </tr>\n",
       "  </thead>\n",
       "  <tbody>\n",
       "    <tr>\n",
       "      <th>0</th>\n",
       "      <td>200039</td>\n",
       "      <td>200039.0</td>\n",
       "      <td>Central Station, Eddy Av, Stand A</td>\n",
       "      <td>-33.882206</td>\n",
       "      <td>151.206665</td>\n",
       "      <td>NaN</td>\n",
       "      <td>200060</td>\n",
       "      <td>0</td>\n",
       "      <td>None</td>\n",
       "    </tr>\n",
       "    <tr>\n",
       "      <th>1</th>\n",
       "      <td>200054</td>\n",
       "      <td>200054.0</td>\n",
       "      <td>Central Station, Eddy Av, Stand D</td>\n",
       "      <td>-33.882042</td>\n",
       "      <td>151.206991</td>\n",
       "      <td>NaN</td>\n",
       "      <td>200060</td>\n",
       "      <td>0</td>\n",
       "      <td>None</td>\n",
       "    </tr>\n",
       "    <tr>\n",
       "      <th>2</th>\n",
       "      <td>200060</td>\n",
       "      <td>NaN</td>\n",
       "      <td>Central Station</td>\n",
       "      <td>-33.884084</td>\n",
       "      <td>151.206292</td>\n",
       "      <td>1.0</td>\n",
       "      <td>None</td>\n",
       "      <td>0</td>\n",
       "      <td>None</td>\n",
       "    </tr>\n",
       "    <tr>\n",
       "      <th>3</th>\n",
       "      <td>201510</td>\n",
       "      <td>NaN</td>\n",
       "      <td>Redfern Station</td>\n",
       "      <td>-33.891690</td>\n",
       "      <td>151.198866</td>\n",
       "      <td>1.0</td>\n",
       "      <td>None</td>\n",
       "      <td>0</td>\n",
       "      <td>None</td>\n",
       "    </tr>\n",
       "    <tr>\n",
       "      <th>4</th>\n",
       "      <td>201646</td>\n",
       "      <td>201646.0</td>\n",
       "      <td>Redfern Station, Gibbons St, Stand B</td>\n",
       "      <td>-33.893329</td>\n",
       "      <td>151.198882</td>\n",
       "      <td>NaN</td>\n",
       "      <td>201510</td>\n",
       "      <td>0</td>\n",
       "      <td>None</td>\n",
       "    </tr>\n",
       "    <tr>\n",
       "      <th>...</th>\n",
       "      <td>...</td>\n",
       "      <td>...</td>\n",
       "      <td>...</td>\n",
       "      <td>...</td>\n",
       "      <td>...</td>\n",
       "      <td>...</td>\n",
       "      <td>...</td>\n",
       "      <td>...</td>\n",
       "      <td>...</td>\n",
       "    </tr>\n",
       "    <tr>\n",
       "      <th>114713</th>\n",
       "      <td>212753</td>\n",
       "      <td>212753.0</td>\n",
       "      <td>Sydney Olympic Park Wharf, Side B</td>\n",
       "      <td>-33.822016</td>\n",
       "      <td>151.078797</td>\n",
       "      <td>NaN</td>\n",
       "      <td>21271</td>\n",
       "      <td>1</td>\n",
       "      <td>B</td>\n",
       "    </tr>\n",
       "    <tr>\n",
       "      <th>114714</th>\n",
       "      <td>2137185</td>\n",
       "      <td>2137185.0</td>\n",
       "      <td>Cabarita Wharf, Side A</td>\n",
       "      <td>-33.840669</td>\n",
       "      <td>151.116926</td>\n",
       "      <td>NaN</td>\n",
       "      <td>21371</td>\n",
       "      <td>1</td>\n",
       "      <td>1A</td>\n",
       "    </tr>\n",
       "    <tr>\n",
       "      <th>114715</th>\n",
       "      <td>2137186</td>\n",
       "      <td>2137186.0</td>\n",
       "      <td>Cabarita Wharf, Side B</td>\n",
       "      <td>-33.840769</td>\n",
       "      <td>151.116899</td>\n",
       "      <td>NaN</td>\n",
       "      <td>21371</td>\n",
       "      <td>1</td>\n",
       "      <td>1B</td>\n",
       "    </tr>\n",
       "    <tr>\n",
       "      <th>114716</th>\n",
       "      <td>21501</td>\n",
       "      <td>21501.0</td>\n",
       "      <td>Parramatta Wharf</td>\n",
       "      <td>-33.813904</td>\n",
       "      <td>151.010577</td>\n",
       "      <td>NaN</td>\n",
       "      <td>2150112</td>\n",
       "      <td>1</td>\n",
       "      <td>None</td>\n",
       "    </tr>\n",
       "    <tr>\n",
       "      <th>114717</th>\n",
       "      <td>2150112</td>\n",
       "      <td>NaN</td>\n",
       "      <td>Parramatta Wharf</td>\n",
       "      <td>-33.813952</td>\n",
       "      <td>151.010482</td>\n",
       "      <td>1.0</td>\n",
       "      <td>None</td>\n",
       "      <td>1</td>\n",
       "      <td>None</td>\n",
       "    </tr>\n",
       "  </tbody>\n",
       "</table>\n",
       "<p>114718 rows × 9 columns</p>\n",
       "</div>"
      ],
      "text/plain": [
       "        stop_id  stop_code                             stop_name   stop_lat  \\\n",
       "0        200039   200039.0     Central Station, Eddy Av, Stand A -33.882206   \n",
       "1        200054   200054.0     Central Station, Eddy Av, Stand D -33.882042   \n",
       "2        200060        NaN                       Central Station -33.884084   \n",
       "3        201510        NaN                       Redfern Station -33.891690   \n",
       "4        201646   201646.0  Redfern Station, Gibbons St, Stand B -33.893329   \n",
       "...         ...        ...                                   ...        ...   \n",
       "114713   212753   212753.0     Sydney Olympic Park Wharf, Side B -33.822016   \n",
       "114714  2137185  2137185.0                Cabarita Wharf, Side A -33.840669   \n",
       "114715  2137186  2137186.0                Cabarita Wharf, Side B -33.840769   \n",
       "114716    21501    21501.0                      Parramatta Wharf -33.813904   \n",
       "114717  2150112        NaN                      Parramatta Wharf -33.813952   \n",
       "\n",
       "          stop_lon  location_type parent_station  wheelchair_boarding  \\\n",
       "0       151.206665            NaN         200060                    0   \n",
       "1       151.206991            NaN         200060                    0   \n",
       "2       151.206292            1.0           None                    0   \n",
       "3       151.198866            1.0           None                    0   \n",
       "4       151.198882            NaN         201510                    0   \n",
       "...            ...            ...            ...                  ...   \n",
       "114713  151.078797            NaN          21271                    1   \n",
       "114714  151.116926            NaN          21371                    1   \n",
       "114715  151.116899            NaN          21371                    1   \n",
       "114716  151.010577            NaN        2150112                    1   \n",
       "114717  151.010482            1.0           None                    1   \n",
       "\n",
       "       platform_code  \n",
       "0               None  \n",
       "1               None  \n",
       "2               None  \n",
       "3               None  \n",
       "4               None  \n",
       "...              ...  \n",
       "114713             B  \n",
       "114714            1A  \n",
       "114715            1B  \n",
       "114716          None  \n",
       "114717          None  \n",
       "\n",
       "[114718 rows x 9 columns]"
      ]
     },
     "execution_count": 19,
     "metadata": {},
     "output_type": "execute_result"
    }
   ],
   "source": [
    "\n",
    "stops.to_sql('stops', conn, if_exists='append', index=False, dtype={'geom': Geometry('POINT', 4326)})\n",
    "query(conn, \"select * from stops\")"
   ]
  },
  {
   "cell_type": "code",
   "execution_count": null,
   "id": "3b8b4f7f-fef7-4da4-a499-2f122cc6a01e",
   "metadata": {},
   "outputs": [],
   "source": []
  },
  {
   "cell_type": "code",
   "execution_count": null,
   "id": "5f498f42-bfb2-4163-bded-eae0f94b2f18",
   "metadata": {},
   "outputs": [],
   "source": [
    "target_url = 'https://maps.six.nsw.gov.au/arcgis/rest/services/public/NSW_POI/MapServer'"
   ]
  },
  {
   "cell_type": "code",
   "execution_count": null,
   "id": "e07db635-c0cf-4afd-8f7f-d5f46990952c",
   "metadata": {},
   "outputs": [],
   "source": [
    "conn.close()\n",
    "db.dispose()"
   ]
  }
 ],
 "metadata": {
  "kernelspec": {
   "display_name": "Python 3",
   "language": "python",
   "name": "python3"
  },
  "language_info": {
   "codemirror_mode": {
    "name": "ipython",
    "version": 3
   },
   "file_extension": ".py",
   "mimetype": "text/x-python",
   "name": "python",
   "nbconvert_exporter": "python",
   "pygments_lexer": "ipython3",
   "version": "3.12.5"
  }
 },
 "nbformat": 4,
 "nbformat_minor": 5
}
